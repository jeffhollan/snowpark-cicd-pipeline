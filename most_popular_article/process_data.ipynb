{
 "cells": [
  {
   "cell_type": "code",
   "execution_count": 1,
   "metadata": {},
   "outputs": [],
   "source": [
    "import sys\n",
    "\n",
    "if \"..\" not in sys.path:\n",
    "    sys.path.insert(0, \"..\")\n",
    "\n",
    "from snowflake.snowpark import Session, udf, DataFrame\n",
    "from snowflake.snowpark.functions import *\n",
    "import os\n",
    "from shared import get_session\n",
    "\n",
    "session = get_session.session()\n"
   ]
  },
  {
   "cell_type": "code",
   "execution_count": 2,
   "metadata": {},
   "outputs": [],
   "source": [
    "articles_df = session.table('articles')"
   ]
  },
  {
   "cell_type": "code",
   "execution_count": 3,
   "metadata": {},
   "outputs": [],
   "source": [
    "articles_df = articles_df.select(col('author'), col('claps'), col('title'), col('reading_time'))"
   ]
  },
  {
   "cell_type": "code",
   "execution_count": 4,
   "metadata": {},
   "outputs": [],
   "source": [
    "# making this a method so I can unit test the logic\n",
    "def convert_claps_to_int(input_df):\n",
    "    # standardize claps\n",
    "    replacedClaps = when(col('claps').like('%K'), regexp_replace(col('claps'), 'K', '').cast('DOUBLE')*1000).otherwise(col('claps').cast('DOUBLE'))\n",
    "    return input_df.select('author', replacedClaps.cast('INTEGER').alias('claps'), 'title', 'reading_time')\n",
    "\n",
    "df = convert_claps_to_int(articles_df)"
   ]
  },
  {
   "cell_type": "code",
   "execution_count": 9,
   "metadata": {},
   "outputs": [
    {
     "name": "stdout",
     "output_type": "stream",
     "text": [
      "-------------------------------------------------------------------------------------------------------\n",
      "|\"AUTHOR\"         |\"CLAPS\"  |\"TITLE\"                                             |\"READING_TIME\"      |\n",
      "-------------------------------------------------------------------------------------------------------\n",
      "|Leigh Alexander  |2700     |The Future We Wanted – Leigh Alexander – Medium     |1.0                 |\n",
      "|Paul Christiano  |43       |Formalizing indirect normativity – AI Alignment     |1.0                 |\n",
      "|Paul Christiano  |43       |Formalizing indirect normativity – AI Alignment     |1.0                 |\n",
      "|Paul Christiano  |43       |Formalizing indirect normativity – AI Alignment     |1.0                 |\n",
      "|Paul Christiano  |43       |Formalizing indirect normativity – AI Alignment     |1.0                 |\n",
      "|Leigh Alexander  |2700     |The Future We Wanted – Leigh Alexander – Medium     |1.0                 |\n",
      "|Rohan Kapur      |1000     |Rohan & Lenny #1: Neural Networks & The Backpro...  |0.9655172413793104  |\n",
      "|Rohan Kapur      |1000     |Rohan & Lenny #1: Neural Networks & The Backpro...  |0.9655172413793104  |\n",
      "|Gary Marcus      |1300     |In defense of skepticism about deep learning – ...  |0.8620689655172413  |\n",
      "|Gary Marcus      |1300     |In defense of skepticism about deep learning – ...  |0.8620689655172413  |\n",
      "-------------------------------------------------------------------------------------------------------\n",
      "\n"
     ]
    }
   ],
   "source": [
    "@udf\n",
    "def minmax(maxtime: int, mintime: int, value: int) -> float:\n",
    "    return (value - mintime) / (maxtime - mintime)\n",
    "    \n",
    "\n",
    "def minmax_time(input_df: DataFrame) -> DataFrame:\n",
    "    maxtime = input_df.agg(max(col('reading_time'))).collect()[0][0]\n",
    "    mintime = input_df.agg(min(col('reading_time'))).collect()[0][0]\n",
    "    return input_df.select('author', 'claps', 'title', minmax(lit(maxtime), lit(mintime), col('reading_time')).alias('reading_time'))\n",
    "\n",
    "df = minmax_time(df)"
   ]
  },
  {
   "cell_type": "code",
   "execution_count": 6,
   "metadata": {},
   "outputs": [],
   "source": [
    "# making this a method so I can unit test the logic\n",
    "def get_each_author_most_popular_article(input_df):\n",
    "    # get the article with the most claps for each author\n",
    "    max_df = input_df.groupBy('author').agg(max('claps').alias('claps'))\n",
    "    # join back in the title and reading time, and remove duplicates\n",
    "    return max_df.join(df, ['author', 'claps']).distinct()\n",
    "\n",
    "output = get_each_author_most_popular_article(df)"
   ]
  },
  {
   "cell_type": "code",
   "execution_count": 7,
   "metadata": {},
   "outputs": [],
   "source": [
    "# update table\n",
    "output.write.save_as_table('top_articles_by_author', mode='overwrite')"
   ]
  }
 ],
 "metadata": {
  "kernelspec": {
   "display_name": "Python 3.8.13 ('snowpark')",
   "language": "python",
   "name": "python3"
  },
  "language_info": {
   "codemirror_mode": {
    "name": "ipython",
    "version": 3
   },
   "file_extension": ".py",
   "mimetype": "text/x-python",
   "name": "python",
   "nbconvert_exporter": "python",
   "pygments_lexer": "ipython3",
   "version": "3.8.13"
  },
  "orig_nbformat": 4,
  "vscode": {
   "interpreter": {
    "hash": "5963d41fb8c7a66fe7f29e5901d5f4618414d1c95fc150a3de2cf112dc877e54"
   }
  }
 },
 "nbformat": 4,
 "nbformat_minor": 2
}
