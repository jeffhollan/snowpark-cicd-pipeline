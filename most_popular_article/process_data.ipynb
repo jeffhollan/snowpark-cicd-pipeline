{
 "cells": [
  {
   "cell_type": "code",
   "execution_count": null,
   "metadata": {},
   "outputs": [],
   "source": [
    "from snowflake.snowpark import Session, udf\n",
    "from snowflake.snowpark.functions import *\n",
    "import os\n",
    "from shared import get_session\n",
    "\n",
    "session = get_session.session()\n"
   ]
  },
  {
   "cell_type": "code",
   "execution_count": null,
   "metadata": {},
   "outputs": [],
   "source": [
    "articles_df = session.table('articles')"
   ]
  },
  {
   "cell_type": "code",
   "execution_count": null,
   "metadata": {},
   "outputs": [],
   "source": [
    "articles_df = articles_df.select(col('author'), col('claps'), col('title'), col('reading_time'))"
   ]
  },
  {
   "cell_type": "code",
   "execution_count": null,
   "metadata": {},
   "outputs": [],
   "source": [
    "# making this a method so I can unit test the logic\n",
    "def convert_claps_to_int(input_df):\n",
    "    # standardize claps\n",
    "    replacedClaps = when(col('claps').like('%K'), regexp_replace(col('claps'), 'K', '').cast('DOUBLE')*1000).otherwise(col('claps').cast('DOUBLE'))\n",
    "    return input_df.select('author', replacedClaps.cast('INTEGER').alias('claps'), 'title', 'reading_time')\n",
    "\n",
    "df = convert_claps_to_int(articles_df)"
   ]
  },
  {
   "cell_type": "code",
   "execution_count": null,
   "metadata": {},
   "outputs": [],
   "source": [
    "# making this a method so I can unit test the logic\n",
    "def get_each_author_most_popular_article(input_df):\n",
    "    # get the article with the most claps for each author\n",
    "    max_df = input_df.groupBy('author').agg(max('claps').alias('claps'))\n",
    "    # join back in the title and reading time, and remove duplicates\n",
    "    return max_df.join(df, ['author', 'claps']).distinct()\n",
    "\n",
    "output = get_each_author_most_popular_article(df)"
   ]
  },
  {
   "cell_type": "code",
   "execution_count": null,
   "metadata": {},
   "outputs": [],
   "source": [
    "# update table\n",
    "output.write.save_as_table('top_articles_by_author', mode='overwrite')"
   ]
  }
 ],
 "metadata": {
  "kernelspec": {
   "display_name": "Python 3.8.13 ('.venv': venv)",
   "language": "python",
   "name": "python3"
  },
  "language_info": {
   "codemirror_mode": {
    "name": "ipython",
    "version": 3
   },
   "file_extension": ".py",
   "mimetype": "text/x-python",
   "name": "python",
   "nbconvert_exporter": "python",
   "pygments_lexer": "ipython3",
   "version": "3.8.13"
  },
  "orig_nbformat": 4,
  "vscode": {
   "interpreter": {
    "hash": "e1dcd1fd5d17a68c58af3d459178cdc3a785d8bd9070c055459bbbd56ef3eecb"
   }
  }
 },
 "nbformat": 4,
 "nbformat_minor": 2
}
