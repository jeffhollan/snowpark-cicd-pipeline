{
 "cells": [
  {
   "cell_type": "code",
   "execution_count": 2,
   "metadata": {},
   "outputs": [
    {
     "ename": "NameError",
     "evalue": "name 'sproc_session' is not defined",
     "output_type": "error",
     "traceback": [
      "\u001b[0;31m---------------------------------------------------------------------------\u001b[0m",
      "\u001b[0;31mNameError\u001b[0m                                 Traceback (most recent call last)",
      "\u001b[1;32m/home/jeffhollan/development/snowpark/cicd/process_data.ipynb Cell 1\u001b[0m in \u001b[0;36m<cell line: 7>\u001b[0;34m()\u001b[0m\n\u001b[1;32m      <a href='vscode-notebook-cell://wsl%2Bubuntu-22.04/home/jeffhollan/development/snowpark/cicd/process_data.ipynb#W0sdnNjb2RlLXJlbW90ZQ%3D%3D?line=3'>4</a>\u001b[0m \u001b[39mimport\u001b[39;00m \u001b[39msnowflake_connection\u001b[39;00m\n\u001b[1;32m      <a href='vscode-notebook-cell://wsl%2Bubuntu-22.04/home/jeffhollan/development/snowpark/cicd/process_data.ipynb#W0sdnNjb2RlLXJlbW90ZQ%3D%3D?line=5'>6</a>\u001b[0m \u001b[39m# if running in snowflake\u001b[39;00m\n\u001b[0;32m----> <a href='vscode-notebook-cell://wsl%2Bubuntu-22.04/home/jeffhollan/development/snowpark/cicd/process_data.ipynb#W0sdnNjb2RlLXJlbW90ZQ%3D%3D?line=6'>7</a>\u001b[0m \u001b[39mif\u001b[39;00m snowflake_connection\u001b[39m.\u001b[39;49mget_session():\n\u001b[1;32m      <a href='vscode-notebook-cell://wsl%2Bubuntu-22.04/home/jeffhollan/development/snowpark/cicd/process_data.ipynb#W0sdnNjb2RlLXJlbW90ZQ%3D%3D?line=7'>8</a>\u001b[0m     session \u001b[39m=\u001b[39m snowflake_connection\u001b[39m.\u001b[39mget_session()\n\u001b[1;32m      <a href='vscode-notebook-cell://wsl%2Bubuntu-22.04/home/jeffhollan/development/snowpark/cicd/process_data.ipynb#W0sdnNjb2RlLXJlbW90ZQ%3D%3D?line=8'>9</a>\u001b[0m \u001b[39m# if running locally with a config file\u001b[39;00m\n",
      "File \u001b[0;32m~/development/snowpark/cicd/snowflake_connection.py:8\u001b[0m, in \u001b[0;36mget_session\u001b[0;34m()\u001b[0m\n\u001b[1;32m      6\u001b[0m \u001b[39mdef\u001b[39;00m \u001b[39mget_session\u001b[39m() \u001b[39m-\u001b[39m\u001b[39m>\u001b[39m Session:\n\u001b[1;32m      7\u001b[0m     \u001b[39mglobal\u001b[39;00m sproc_session\n\u001b[0;32m----> 8\u001b[0m     \u001b[39mreturn\u001b[39;00m sproc_session\n",
      "\u001b[0;31mNameError\u001b[0m: name 'sproc_session' is not defined"
     ]
    }
   ],
   "source": [
    "from snowflake.snowpark import Session, udf\n",
    "from snowflake.snowpark.functions import *\n",
    "import os\n",
    "from snowflake_connection import SnowflakeConnection\n",
    "\n",
    "# if running in snowflake\n",
    "if SnowflakeConnection().connection:\n",
    "    session = SnowflakeConnection().connection\n",
    "# if running locally with a config file\n",
    "elif os.path.exists('config.py'):\n",
    "    from config import snowpark_config\n",
    "    session = Session.builder.configs(snowpark_config).create()\n",
    "else:\n",
    "    connection_parameters = {\n",
    "        \"account\": os.environ[\"snowflake_account\"],\n",
    "        \"user\": os.environ[\"snowflake_user\"],\n",
    "        \"password\": os.environ[\"snowflake_password\"],\n",
    "        \"role\": os.environ[\"snowflake_user_role\"],\n",
    "        \"warehouse\": os.environ[\"snowflake_warehouse\"],\n",
    "        \"database\": os.environ[\"snowflake_database\"],\n",
    "        \"schema\": os.environ[\"snowflake_schema\"]\n",
    "    }\n",
    "    session = Session.builder.configs(connection_parameters).create()"
   ]
  },
  {
   "cell_type": "code",
   "execution_count": null,
   "metadata": {},
   "outputs": [],
   "source": [
    "articles_df = session.table('articles')"
   ]
  },
  {
   "cell_type": "code",
   "execution_count": null,
   "metadata": {},
   "outputs": [],
   "source": [
    "articles_df = articles_df.select(col('author'), col('claps'), col('title'), col('reading_time'))"
   ]
  },
  {
   "cell_type": "code",
   "execution_count": null,
   "metadata": {},
   "outputs": [],
   "source": [
    "# making this a method so I can unit test the logic\n",
    "def convert_claps_to_int(input_df):\n",
    "    # standardize claps\n",
    "    replacedClaps = when(col('claps').like('%K'), regexp_replace(col('claps'), 'K', '').cast('DOUBLE')*1000).otherwise(col('claps').cast('DOUBLE'))\n",
    "    return input_df.select('author', replacedClaps.cast('INTEGER').alias('claps'), 'title', 'reading_time')\n",
    "\n",
    "df = convert_claps_to_int(articles_df)"
   ]
  },
  {
   "cell_type": "code",
   "execution_count": null,
   "metadata": {},
   "outputs": [],
   "source": [
    "# making this a method so I can unit test the logic\n",
    "def get_each_author_most_popular_article(input_df):\n",
    "    # get the article with the most claps for each author\n",
    "    max_df = input_df.groupBy('author').agg(max('claps').alias('claps'))\n",
    "    # join back in the title and reading time, and remove duplicates\n",
    "    return max_df.join(df, ['author', 'claps']).distinct()\n",
    "\n",
    "output = get_each_author_most_popular_article(df)"
   ]
  },
  {
   "cell_type": "code",
   "execution_count": null,
   "metadata": {},
   "outputs": [],
   "source": [
    "# update table\n",
    "output.write.save_as_table('top_articles_by_author', mode='overwrite')"
   ]
  }
 ],
 "metadata": {
  "kernelspec": {
   "display_name": "Python 3.8.13 ('.venv': venv)",
   "language": "python",
   "name": "python3"
  },
  "language_info": {
   "codemirror_mode": {
    "name": "ipython",
    "version": 3
   },
   "file_extension": ".py",
   "mimetype": "text/x-python",
   "name": "python",
   "nbconvert_exporter": "python",
   "pygments_lexer": "ipython3",
   "version": "3.8.13"
  },
  "orig_nbformat": 4,
  "vscode": {
   "interpreter": {
    "hash": "e1dcd1fd5d17a68c58af3d459178cdc3a785d8bd9070c055459bbbd56ef3eecb"
   }
  }
 },
 "nbformat": 4,
 "nbformat_minor": 2
}
