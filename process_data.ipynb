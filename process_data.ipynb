{
 "cells": [
  {
   "cell_type": "code",
   "execution_count": null,
   "metadata": {},
   "outputs": [],
   "source": [
    "from snowflake.snowpark import Session, udf\n",
    "from snowflake.snowpark.functions import *\n",
    "from config import snowpark_config\n",
    "import os\n",
    "\n",
    "if snowpark_config:\n",
    "    session = Session.builder.configs(snowpark_config).create()\n",
    "else:\n",
    "    connection_parameters = {\n",
    "        \"account\": os.environ[\"snowflake_account\"],\n",
    "        \"user\": os.environ[\"snowflake_user\"],\n",
    "        \"password\": os.environ[\"snowflake_password\"],\n",
    "        \"role\": os.environ[\"snowflake_user_role\"],\n",
    "        \"warehouse\": os.environ[\"snowflake_warehouse\"],\n",
    "        \"database\": os.environ[\"snowflake_database\"],\n",
    "        \"schema\": os.environ[\"snowflake_schema\"]\n",
    "    }\n",
    "    session = Session.builder.configs(connection_parameters).create()"
   ]
  },
  {
   "cell_type": "code",
   "execution_count": null,
   "metadata": {},
   "outputs": [],
   "source": [
    "articles_df = session.table('articles')"
   ]
  },
  {
   "cell_type": "code",
   "execution_count": null,
   "metadata": {},
   "outputs": [],
   "source": [
    "articles_df = articles_df.select(col('author'), col('claps'), col('title'), col('reading_time'))"
   ]
  },
  {
   "cell_type": "code",
   "execution_count": null,
   "metadata": {},
   "outputs": [],
   "source": [
    "# standardize claps\n",
    "replacedClaps = when(col('claps').like('%K'), regexp_replace(col('claps'), 'K', '').cast('DOUBLE')*1000).otherwise(col('claps').cast('DOUBLE'))\n",
    "df = articles_df.select('author', replacedClaps.cast('INTEGER').alias('claps'), 'title', 'reading_time')"
   ]
  },
  {
   "cell_type": "code",
   "execution_count": null,
   "metadata": {},
   "outputs": [],
   "source": [
    "# get the article with the most claps for each author\n",
    "max_df = df.groupBy('author').agg(max('claps').alias('claps'))\n",
    "# join back in the title and reading time, and remove duplicates\n",
    "joined = max_df.join(df, ['author', 'claps']).distinct()"
   ]
  },
  {
   "cell_type": "code",
   "execution_count": 161,
   "metadata": {},
   "outputs": [],
   "source": [
    "# update table\n",
    "joined.write.save_as_table('top_articles_by_author', mode='overwrite')"
   ]
  }
 ],
 "metadata": {
  "kernelspec": {
   "display_name": "Python 3.8.13 ('.venv': venv)",
   "language": "python",
   "name": "python3"
  },
  "language_info": {
   "codemirror_mode": {
    "name": "ipython",
    "version": 3
   },
   "file_extension": ".py",
   "mimetype": "text/x-python",
   "name": "python",
   "nbconvert_exporter": "python",
   "pygments_lexer": "ipython3",
   "version": "3.8.13"
  },
  "orig_nbformat": 4,
  "vscode": {
   "interpreter": {
    "hash": "e1dcd1fd5d17a68c58af3d459178cdc3a785d8bd9070c055459bbbd56ef3eecb"
   }
  }
 },
 "nbformat": 4,
 "nbformat_minor": 2
}
